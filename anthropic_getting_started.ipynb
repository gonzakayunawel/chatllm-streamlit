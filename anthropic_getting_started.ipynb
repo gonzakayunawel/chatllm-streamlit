{
 "cells": [
  {
   "cell_type": "code",
   "execution_count": 8,
   "metadata": {},
   "outputs": [
    {
     "name": "stdout",
     "output_type": "stream",
     "text": [
      "El S&P 500: Tu Boleto de Entrada al Mundo de las Inversiones\n",
      "\n",
      "¿Alguna vez has escuchado hablar del S&P 500 y te has preguntado qué es exactamente? ¿O tal vez has oído sobre los ETFs y te intriga cómo se relacionan con este índice? No te preocupes, estás en el lugar correcto. Vamos a sumergirnos en el fascinante mundo de las inversiones y descubrir cómo estos conceptos pueden ser tu puerta de entrada a la riqueza financiera.\n",
      "\n",
      "El S&P 500: El Termómetro de Wall Street\n",
      "\n",
      "Imagina que pudieras tomar el pulso de la economía estadounidense con solo mirar un número. Bueno, eso es básicamente lo que hace el S&P 500. Este índice, creado por Standard & Poor's en 1957, es como un club exclusivo que reúne a las 500 empresas más grandes y poderosas que cotizan en las bolsas de valores de Estados Unidos.\n",
      "\n",
      "Estas no son empresas cualquiera. Estamos hablando de gigantes como Apple, Microsoft, Amazon y Google. Cuando escuchas que \"el mercado subió hoy\", generalmente se refieren al comportamiento del S&P 500. Es tan influyente que muchos lo consideran el mejor indicador del mercado de valores estadounidense y, por extensión, de la salud económica del país.\n",
      "\n",
      "Pero, ¿cómo puedes beneficiarte de esto? Aquí es donde entran en juego los ETFs.\n",
      "\n",
      "ETFs: Tu Boleto VIP al S&P 500\n",
      "\n",
      "Los ETFs, o Fondos Cotizados en Bolsa, son como cestas de inversión que contienen una mezcla de acciones, bonos u otros activos. Lo genial de los ETFs es que te permiten invertir en un grupo diversificado de empresas con una sola compra.\n",
      "\n",
      "Ahora, imagina un ETF que replica el S&P 500. Con una sola inversión, obtienes exposición a las 500 empresas más importantes de Estados Unidos. Es como comprar un pedacito de cada una de estas compañías, sin tener que gastar una fortuna o pasar horas investigando cada empresa individualmente.\n",
      "\n",
      "Según un estudio de Morningstar, \"los ETFs que siguen el S&P 500 han ganado popularidad entre los inversores principiantes debido a su simplicidad y bajo costo\" [1]. Y no es de extrañar. Estos ETFs ofrecen diversificación instantánea y la oportunidad de beneficiarse del crecimiento general de la economía estadounidense.\n",
      "\n",
      "¿Por Qué Deberías Prestar Atención?\n",
      "\n",
      "1. Diversificación: Al invertir en un ETF del S&P 500, estás diversificando automáticamente tu inversión entre 500 empresas diferentes. Esto ayuda a reducir el riesgo.\n",
      "\n",
      "2. Costos bajos: Los ETFs suelen tener comisiones más bajas que los fondos mutuos tradicionales, lo que significa que puedes mantener más de tus ganancias.\n",
      "\n",
      "3. Facilidad: No necesitas ser un experto en finanzas para invertir en estos ETFs. Son fáciles de comprar y vender, como si fueran acciones individuales.\n",
      "\n",
      "4. Potencial de crecimiento a largo plazo: Históricamente, el S&P 500 ha mostrado una tendencia alcista a largo plazo, a pesar de las fluctuaciones a corto plazo.\n",
      "\n",
      "Comenzar es Más Fácil de lo que Piensas\n",
      "\n",
      "Si eres nuevo en el mundo de las inversiones, un ETF que sigue al S&P 500 puede ser un excelente punto de partida. No necesitas una gran suma de dinero para empezar, y muchas plataformas de inversión en línea te permiten comprar fracciones de ETFs, lo que significa que puedes comenzar con tan poco como $10 o $20.\n",
      "\n",
      "Recuerda, como con cualquier inversión, es importante hacer tu propia investigación y considerar tus objetivos financieros y tolerancia al riesgo. Pero no dejes que el miedo te detenga. El mundo de las inversiones puede parecer intimidante al principio, pero con herramientas como los ETFs del S&P 500, tienes la oportunidad de dar tus primeros pasos en el camino hacia la libertad financiera.\n",
      "\n",
      "Así que, ¿estás listo para sumergirte en el emocionante mundo del S&P 500 y los ETFs? Tu viaje hacia la riqueza financiera podría estar a solo un clic de distancia.\n",
      "\n",
      "[1] Fuente: Morningstar. \"Why S&P 500 ETFs Are Popular Among Beginner Investors\". 2022. https://www.morningstar.com/articles/1046066/why-sp-500-etfs-are-popular-among-beginner-investors\n"
     ]
    }
   ],
   "source": [
    "import anthropic\n",
    "\n",
    "client = anthropic.Anthropic()\n",
    "\n",
    "\n",
    "system_prompt = \"Eres un experto en redacción de artículos para bloggers. Responde a las preguntas de los lectores en español. No respondas con ningún otro texto. Solo responde con el artículo. El artículo debe contener al menos 100 palabras. El artículo debe estar escrito en un estilo creativo y original. El artículo debe contener al menos una cita de fuentes. La longitud máxima del artículo es de 1500 palabras. Las citas de fuentes deben estar en un formato de citas de fuentes como: [1] Fuente: Titulo. Año. Enlace a la fuente. La cita debe estar en el artículo.\"\n",
    "\n",
    "user_prompt = input(\"Ingrese una pregunta para el modelo Claude Sonnet 3.5: \")\n",
    "\n",
    "message = client.messages.create(\n",
    "    model=\"claude-3-5-sonnet-20240620\",\n",
    "    max_tokens=2000,\n",
    "    temperature=0,\n",
    "    system=system_prompt,\n",
    "    messages=[{\"role\": \"user\", \"content\": [{\"type\": \"text\", \"text\": user_prompt}]}],\n",
    ")\n",
    "\n",
    "for m in message.content:\n",
    "    print(m.text)"
   ]
  }
 ],
 "metadata": {
  "kernelspec": {
   "display_name": ".venv",
   "language": "python",
   "name": "python3"
  },
  "language_info": {
   "codemirror_mode": {
    "name": "ipython",
    "version": 3
   },
   "file_extension": ".py",
   "mimetype": "text/x-python",
   "name": "python",
   "nbconvert_exporter": "python",
   "pygments_lexer": "ipython3",
   "version": "3.12.3"
  }
 },
 "nbformat": 4,
 "nbformat_minor": 2
}
